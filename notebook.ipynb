{
 "cells": [
  {
   "cell_type": "code",
   "execution_count": 15,
   "metadata": {},
   "outputs": [],
   "source": [
    "import importlib\n",
    "import helper\n",
    "importlib.reload(helper)\n",
    "%matplotlib inline\n",
    "\n",
    "import cv2\n",
    "import numpy as np\n",
    "import matplotlib.pyplot as plt\n",
    "from skimage.metrics import mean_squared_error as mse\n",
    "\n",
    "from skimage.metrics import structural_similarity as ssim\n",
    "from helper import Timer, remove_dupe_frames\n",
    "\n",
    "import ray\n",
    "import time"
   ]
  },
  {
   "cell_type": "code",
   "execution_count": 21,
   "metadata": {},
   "outputs": [],
   "source": [
    "ray.shutdown()\n",
    "# ray.init()"
   ]
  },
  {
   "cell_type": "code",
   "execution_count": 18,
   "metadata": {},
   "outputs": [
    {
     "name": "stdout",
     "output_type": "stream",
     "text": [
      "Time elapsed with ray: 5.04 for result = [0, 1, 2, 3, 4, 5, 6, 7, 8, 9]\n",
      "Time elapsed without ray: 20.07 for result = [0, 1, 2, 3, 4, 5, 6, 7, 8, 9]\n"
     ]
    }
   ],
   "source": [
    "# Testing ray\n",
    "@ray.remote\n",
    "def f(x):\n",
    "    time.sleep(1)\n",
    "    return x\n",
    "\n",
    "result_ids = []\n",
    "timer.start()\n",
    "for i in range(10):\n",
    "    result_ids.append(f.remote(i))\n",
    "results = ray.get(result_ids)\n",
    "timer.stop()\n",
    "print(f\"Time elapsed with ray: {timer.elapsedTime()} for result = {results}\")\n",
    "\n",
    "def f2(x):\n",
    "    time.sleep(1)\n",
    "    return x\n",
    "\n",
    "result = []\n",
    "timer.start()\n",
    "for i in range(10):\n",
    "    time.sleep(1)\n",
    "    result.append(f2(i))\n",
    "timer.stop()\n",
    "print(f\"Time elapsed without ray: {timer.elapsedTime()} for result = {result}\")\n"
   ]
  },
  {
   "cell_type": "code",
   "execution_count": 19,
   "metadata": {},
   "outputs": [
    {
     "name": "stderr",
     "output_type": "stream",
     "text": [
      "\u001b[2m\u001b[36m(raylet)\u001b[0m Spilled 2479 MiB, 424 objects, write throughput 211 MiB/s. Set RAY_verbose_spill_logs=0 to disable this message.\n",
      "\u001b[2m\u001b[36m(raylet)\u001b[0m Spilled 4180 MiB, 531 objects, write throughput 194 MiB/s.\n",
      "\u001b[2m\u001b[36m(raylet)\u001b[0m Spilled 8301 MiB, 792 objects, write throughput 174 MiB/s.\n"
     ]
    },
    {
     "name": "stdout",
     "output_type": "stream",
     "text": [
      "Splitting frames: Elapsed time 123.80\n"
     ]
    }
   ],
   "source": [
    "timer = Timer()\n",
    "images = []\n",
    "gs_frames = []\n",
    "capture = cv2.VideoCapture('sampleClips/video.mp4')\n",
    "\n",
    "@ray.remote\n",
    "def get_gray_scale(frame):\n",
    "    return cv2.cvtColor(frame, cv2.COLOR_BGR2GRAY)\n",
    "\n",
    "timer.start()\n",
    "futures = []\n",
    "while True:\n",
    "    success, frame = capture.read()\n",
    "    if not success:\n",
    "        gray_frame = None\n",
    "        break\n",
    "\n",
    "    images.append(frame)\n",
    "    # TODO: future implementations for frame processing\n",
    "    futures.append(get_gray_scale.remote(frame))\n",
    "\n",
    "gs_frames = ray.get(futures)\n",
    "\n",
    "timer.stop()\n",
    "print(f\"Splitting frames: Elapsed time {timer.elapsedTime()}\")"
   ]
  },
  {
   "cell_type": "markdown",
   "metadata": {},
   "source": [
    "Elapsed time with single thread task: 5.18, 3,47, 2.6, 2.51, 3.39\n",
    "Elapsed time with parallel tasks: 6.48, 7.5, 8.1,"
   ]
  },
  {
   "cell_type": "code",
   "execution_count": null,
   "metadata": {},
   "outputs": [],
   "source": [
    "print(f\"Frame count: {len(images)}\")\n",
    "img = images[0]\n",
    "img.shape, img.size, img.dtype"
   ]
  },
  {
   "cell_type": "code",
   "execution_count": null,
   "metadata": {},
   "outputs": [],
   "source": [
    "gs_img = gs_frames[0]\n",
    "gs_img.shape, gs_img.size, gs_img.dtype"
   ]
  },
  {
   "cell_type": "code",
   "execution_count": null,
   "metadata": {},
   "outputs": [],
   "source": [
    "timer.stop()\n",
    "unique_frames = remove_dupe_frames(gs_frames, timer)"
   ]
  },
  {
   "cell_type": "code",
   "execution_count": null,
   "metadata": {},
   "outputs": [],
   "source": [
    "print(len(unique_frames))"
   ]
  },
  {
   "cell_type": "code",
   "execution_count": null,
   "metadata": {},
   "outputs": [],
   "source": [
    "rows, cols = round(len(unique_frames)/3), 3\n",
    "fig, axes = plt.subplots(rows, cols, figsize=(5 * cols,5 * rows))\n",
    "len(axes)"
   ]
  },
  {
   "cell_type": "code",
   "execution_count": null,
   "metadata": {},
   "outputs": [],
   "source": [
    "rows, cols = axes.shape # (2,3)\n",
    "for row in range(rows):\n",
    "    for col in range(cols):\n",
    "        if row * cols + col + 1 > len(unique_frames):\n",
    "            # hide axis if its not supposed to be plotted\n",
    "            axes[row][col].set_axis_off()\n",
    "            break\n",
    "        axes[row][col].imshow(unique_frames[row * cols + col], cmap=plt.cm.gray)\n",
    "        axes[row][col].set_title(f\"Frame {row * cols + col + 1}\")"
   ]
  },
  {
   "cell_type": "code",
   "execution_count": null,
   "metadata": {},
   "outputs": [],
   "source": [
    "# adjust padding btwn subplots\n",
    "plt.tight_layout()\n",
    "# show plot\n",
    "plt.show()"
   ]
  }
 ],
 "metadata": {
  "kernelspec": {
   "display_name": "Python 3.8.9 ('venv': venv)",
   "language": "python",
   "name": "python3"
  },
  "language_info": {
   "codemirror_mode": {
    "name": "ipython",
    "version": 3
   },
   "file_extension": ".py",
   "mimetype": "text/x-python",
   "name": "python",
   "nbconvert_exporter": "python",
   "pygments_lexer": "ipython3",
   "version": "3.10.8"
  },
  "orig_nbformat": 4,
  "vscode": {
   "interpreter": {
    "hash": "110a5b2b46b2f9047016130dfedd76a6cd737efa528285880e4a69a86834bebf"
   }
  }
 },
 "nbformat": 4,
 "nbformat_minor": 2
}
