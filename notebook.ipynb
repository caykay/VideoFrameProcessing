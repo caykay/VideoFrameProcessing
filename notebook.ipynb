{
 "cells": [
  {
   "cell_type": "code",
   "execution_count": null,
   "metadata": {},
   "outputs": [],
   "source": [
    "import importlib\n",
    "import helper\n",
    "importlib.reload(helper)\n",
    "%matplotlib inline\n",
    "\n",
    "import cv2\n",
    "import numpy as np\n",
    "import matplotlib.pyplot as plt\n",
    "from skimage.metrics import mean_squared_error as mse\n",
    "\n",
    "from skimage.metrics import structural_similarity as ssim\n",
    "from helper import Timer, remove_dupe_frames"
   ]
  },
  {
   "cell_type": "code",
   "execution_count": null,
   "metadata": {},
   "outputs": [],
   "source": [
    "timer = Timer()\n",
    "images = []\n",
    "gs_frames = []\n",
    "capture = cv2.VideoCapture('sampleClips/5_seconds_cntdown.mp4')\n",
    "\n",
    "timer.start()\n",
    "while True:\n",
    "    success, frame = capture.read()\n",
    "    if not success:\n",
    "        gray_frame = None\n",
    "        break\n",
    "\n",
    "    images.append(frame)\n",
    "    # TODO: future implementations for frame processing\n",
    "    gray_frame = cv2.cvtColor(frame, cv2.COLOR_BGR2GRAY)\n",
    "    gs_frames.append(gray_frame)\n",
    "\n",
    "timer.stop()\n",
    "print(f\"Splitting frames: Elapsed time {timer.elapsedTime()}\")"
   ]
  },
  {
   "cell_type": "code",
   "execution_count": null,
   "metadata": {},
   "outputs": [],
   "source": [
    "print(f\"Frame count: {len(images)}\")\n",
    "img = images[0]\n",
    "img.shape, img.size, img.dtype"
   ]
  },
  {
   "cell_type": "code",
   "execution_count": null,
   "metadata": {},
   "outputs": [],
   "source": [
    "gs_img = gs_frames[0]\n",
    "gs_img.shape, gs_img.size, gs_img.dtype"
   ]
  },
  {
   "cell_type": "code",
   "execution_count": null,
   "metadata": {},
   "outputs": [],
   "source": [
    "timer.stop()\n",
    "unique_frames = remove_dupe_frames(gs_frames, timer)"
   ]
  },
  {
   "cell_type": "code",
   "execution_count": null,
   "metadata": {},
   "outputs": [],
   "source": [
    "print(len(unique_frames))"
   ]
  },
  {
   "cell_type": "code",
   "execution_count": null,
   "metadata": {},
   "outputs": [],
   "source": [
    "rows, cols = round(len(unique_frames)/3), 3\n",
    "fig, axes = plt.subplots(rows, cols, figsize=(5 * cols,5 * rows))\n",
    "len(axes)"
   ]
  },
  {
   "cell_type": "code",
   "execution_count": null,
   "metadata": {},
   "outputs": [],
   "source": [
    "rows, cols = axes.shape # (2,3)\n",
    "for row in range(rows):\n",
    "    for col in range(cols):\n",
    "        if row * cols + col + 1 > len(unique_frames):\n",
    "            # hide axis if its not supposed to be plotted\n",
    "            axes[row][col].set_axis_off()\n",
    "            break\n",
    "        axes[row][col].imshow(unique_frames[row * cols + col], cmap=plt.cm.gray)\n",
    "        axes[row][col].set_title(f\"Frame {row * cols + col + 1}\")"
   ]
  },
  {
   "cell_type": "code",
   "execution_count": null,
   "metadata": {},
   "outputs": [],
   "source": [
    "# adjust padding btwn subplots\n",
    "plt.tight_layout()\n",
    "# show plot\n",
    "plt.show()"
   ]
  }
 ],
 "metadata": {
  "kernelspec": {
   "display_name": "Python 3.8.9 ('venv': venv)",
   "language": "python",
   "name": "python3"
  },
  "language_info": {
   "codemirror_mode": {
    "name": "ipython",
    "version": 3
   },
   "file_extension": ".py",
   "mimetype": "text/x-python",
   "name": "python",
   "nbconvert_exporter": "python",
   "pygments_lexer": "ipython3",
   "version": "3.8.9"
  },
  "orig_nbformat": 4,
  "vscode": {
   "interpreter": {
    "hash": "110a5b2b46b2f9047016130dfedd76a6cd737efa528285880e4a69a86834bebf"
   }
  }
 },
 "nbformat": 4,
 "nbformat_minor": 2
}
